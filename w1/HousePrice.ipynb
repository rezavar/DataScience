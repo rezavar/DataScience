{
 "cells": [
  {
   "cell_type": "code",
   "execution_count": 1,
   "metadata": {},
   "outputs": [
    {
     "name": "stdout",
     "output_type": "stream",
     "text": [
      "Predicted price: [190000.]\n"
     ]
    },
    {
     "name": "stderr",
     "output_type": "stream",
     "text": [
      "c:\\Users\\Reza\\AppData\\Local\\Programs\\Python\\Python312\\Lib\\site-packages\\sklearn\\base.py:465: UserWarning: X does not have valid feature names, but LinearRegression was fitted with feature names\n",
      "  warnings.warn(\n"
     ]
    }
   ],
   "source": [
    "import pandas as pd\n",
    "from sklearn.linear_model import LinearRegression\n",
    "\n",
    "# Generate the dataset\n",
    "data = {'Square footage (ft^2)': [1500, 2000, 1800, 2500, 2200],\n",
    "        'Number of bedrooms': [3, 4, 3, 5, 4],\n",
    "        'Number of bathrooms': [2, 2, 1, 3, 2],\n",
    "        'Garage capacity': [2, 2, 1, 2, 2],\n",
    "        'Price (USD)': [250000, 320000, 200000, 420000, 360000]}\n",
    "df = pd.DataFrame(data)\n",
    "\n",
    "# Separate the target variable from the predictors\n",
    "data_model = df.drop('Price (USD)', axis=1)\n",
    "Price = df['Price (USD)']\n",
    "\n",
    "# Create a linear regression model and fit it to the data\n",
    "model = LinearRegression()\n",
    "model.fit(data_model, Price)\n",
    "\n",
    "# Predict the price for a new house\n",
    "new_house = [[1600, 3, 2, 1]]\n",
    "predicted_price = model.predict(new_house)\n",
    "\n",
    "print('Predicted price:', predicted_price)"
   ]
  }
 ],
 "metadata": {
  "kernelspec": {
   "display_name": "Python 3",
   "language": "python",
   "name": "python3"
  },
  "language_info": {
   "codemirror_mode": {
    "name": "ipython",
    "version": 3
   },
   "file_extension": ".py",
   "mimetype": "text/x-python",
   "name": "python",
   "nbconvert_exporter": "python",
   "pygments_lexer": "ipython3",
   "version": "3.12.0"
  },
  "orig_nbformat": 4,
  "vscode": {
   "interpreter": {
    "hash": "680c2ee62ff350cc6d024ad95021c943a3764dce393c08c6817dbe0015338d57"
   }
  }
 },
 "nbformat": 4,
 "nbformat_minor": 2
}
