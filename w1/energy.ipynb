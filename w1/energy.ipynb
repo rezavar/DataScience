{
 "cells": [
  {
   "cell_type": "code",
   "execution_count": 19,
   "metadata": {},
   "outputs": [
    {
     "name": "stdout",
     "output_type": "stream",
     "text": [
      "<class 'pandas.core.frame.DataFrame'>\n",
      "RangeIndex: 3340 entries, 0 to 3339\n",
      "Data columns (total 7 columns):\n",
      " #   Column                             Non-Null Count  Dtype  \n",
      "---  ------                             --------------  -----  \n",
      " 0   BuildingType                       3340 non-null   object \n",
      " 1   PrimaryPropertyType                3340 non-null   object \n",
      " 2   Neighborhood                       3340 non-null   object \n",
      " 3   YearBuilt                          3340 non-null   int64  \n",
      " 4   NumberofFloors                     3332 non-null   float64\n",
      " 5   SiteEUI(kBtu/sf)                   3330 non-null   float64\n",
      " 6   GHGEmissionsIntensity(kgCO2e/ft2)  3330 non-null   float64\n",
      "dtypes: float64(3), int64(1), object(3)\n",
      "memory usage: 182.8+ KB\n",
      "<class 'pandas.core.frame.DataFrame'>\n",
      "Index: 3322 entries, 0 to 3339\n",
      "Data columns (total 7 columns):\n",
      " #   Column                             Non-Null Count  Dtype  \n",
      "---  ------                             --------------  -----  \n",
      " 0   BuildingType                       3322 non-null   object \n",
      " 1   PrimaryPropertyType                3322 non-null   object \n",
      " 2   Neighborhood                       3322 non-null   object \n",
      " 3   YearBuilt                          3322 non-null   int64  \n",
      " 4   NumberofFloors                     3322 non-null   float64\n",
      " 5   SiteEUI(kBtu/sf)                   3322 non-null   float64\n",
      " 6   GHGEmissionsIntensity(kgCO2e/ft2)  3322 non-null   float64\n",
      "dtypes: float64(3), int64(1), object(3)\n",
      "memory usage: 207.6+ KB\n"
     ]
    }
   ],
   "source": [
    "import numpy as np\n",
    "import pandas as pd\n",
    "import matplotlib.pyplot as plt\n",
    "from sklearn.linear_model import LinearRegression\n",
    "from sklearn.model_selection import train_test_split\n",
    "from sklearn.metrics import r2_score, mean_squared_error\n",
    "#import AllTogether as t\n",
    "import seaborn as sns\n",
    "%matplotlib inline\n",
    "\n",
    "df1= pd.read_csv('energy.csv')\n",
    "# df1.head()\n",
    "# df1.info()\n",
    "\n",
    "import json\n",
    "f = open('socrata.json')\n",
    "data = json.load(f)\n",
    "# data\n",
    "df1=df1[['BuildingType', 'PrimaryPropertyType','Neighborhood', 'YearBuilt','NumberofFloors', 'SiteEUI(kBtu/sf)',\n",
    "                    'GHGEmissionsIntensity(kgCO2e/ft2)']]\n",
    "# df1.head()\n",
    "df1.info()\n",
    "df1=df1.dropna()\n",
    "df1.info()"
   ]
  },
  {
   "cell_type": "code",
   "execution_count": null,
   "metadata": {},
   "outputs": [],
   "source": []
  }
 ],
 "metadata": {
  "kernelspec": {
   "display_name": "Python 3",
   "language": "python",
   "name": "python3"
  },
  "language_info": {
   "codemirror_mode": {
    "name": "ipython",
    "version": 3
   },
   "file_extension": ".py",
   "mimetype": "text/x-python",
   "name": "python",
   "nbconvert_exporter": "python",
   "pygments_lexer": "ipython3",
   "version": "3.12.0"
  },
  "orig_nbformat": 4,
  "vscode": {
   "interpreter": {
    "hash": "680c2ee62ff350cc6d024ad95021c943a3764dce393c08c6817dbe0015338d57"
   }
  }
 },
 "nbformat": 4,
 "nbformat_minor": 2
}
